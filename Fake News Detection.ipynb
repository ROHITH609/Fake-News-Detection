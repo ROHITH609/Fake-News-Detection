{
 "cells": [
  {
   "cell_type": "markdown",
   "id": "c669694e",
   "metadata": {},
   "source": [
    "# Fake News Detection"
   ]
  },
  {
   "cell_type": "markdown",
   "id": "c37acc3f",
   "metadata": {},
   "source": [
    "### impoting required libraby"
   ]
  },
  {
   "cell_type": "code",
   "execution_count": 92,
   "id": "a4330c66",
   "metadata": {},
   "outputs": [],
   "source": [
    "import numpy as np\n",
    "import pandas as pd\n",
    "import matplotlib.pyplot as plt\n",
    "import seaborn as sns\n",
    "import sklearn\n",
    "import re\n",
    "import warnings\n",
    "import nltk\n",
    "from sklearn.feature_extraction.text import TfidfVectorizer\n",
    "from nltk.tokenize import word_tokenize\n",
    "from sklearn.preprocessing import LabelEncoder\n",
    "from sklearn.model_selection import train_test_split\n",
    "from nltk.stem import WordNetLemmatizer,PorterStemmer\n",
    "from nltk.corpus import stopwords\n",
    "warnings.simplefilter(\"ignore\")"
   ]
  },
  {
   "cell_type": "markdown",
   "id": "6ffde6e4",
   "metadata": {},
   "source": [
    "### Create objects"
   ]
  },
  {
   "cell_type": "code",
   "execution_count": 93,
   "id": "174ca2b6",
   "metadata": {},
   "outputs": [],
   "source": [
    "ps=PorterStemmer()\n",
    "vec=TfidfVectorizer()\n",
    "lc=LabelEncoder()\n",
    "tfidf=TfidfVectorizer()"
   ]
  },
  {
   "cell_type": "markdown",
   "id": "de4f1a13",
   "metadata": {},
   "source": [
    "### Read dateset"
   ]
  },
  {
   "cell_type": "code",
   "execution_count": 94,
   "id": "92f438de",
   "metadata": {},
   "outputs": [],
   "source": [
    "dataset=pd.read_csv(\"C:/Users/reddy/OneDrive/Desktop/pantech/fake news.csv\")"
   ]
  },
  {
   "cell_type": "code",
   "execution_count": 95,
   "id": "95045450",
   "metadata": {},
   "outputs": [
    {
     "data": {
      "text/html": [
       "<div>\n",
       "<style scoped>\n",
       "    .dataframe tbody tr th:only-of-type {\n",
       "        vertical-align: middle;\n",
       "    }\n",
       "\n",
       "    .dataframe tbody tr th {\n",
       "        vertical-align: top;\n",
       "    }\n",
       "\n",
       "    .dataframe thead th {\n",
       "        text-align: right;\n",
       "    }\n",
       "</style>\n",
       "<table border=\"1\" class=\"dataframe\">\n",
       "  <thead>\n",
       "    <tr style=\"text-align: right;\">\n",
       "      <th></th>\n",
       "      <th>Statement</th>\n",
       "      <th>Label</th>\n",
       "    </tr>\n",
       "  </thead>\n",
       "  <tbody>\n",
       "    <tr>\n",
       "      <th>0</th>\n",
       "      <td>Says the Annies List political group supports ...</td>\n",
       "      <td>False</td>\n",
       "    </tr>\n",
       "    <tr>\n",
       "      <th>1</th>\n",
       "      <td>When did the decline of coal start? It started...</td>\n",
       "      <td>True</td>\n",
       "    </tr>\n",
       "    <tr>\n",
       "      <th>2</th>\n",
       "      <td>Hillary Clinton agrees with John McCain \"by vo...</td>\n",
       "      <td>True</td>\n",
       "    </tr>\n",
       "    <tr>\n",
       "      <th>3</th>\n",
       "      <td>Health care reform legislation is likely to ma...</td>\n",
       "      <td>False</td>\n",
       "    </tr>\n",
       "    <tr>\n",
       "      <th>4</th>\n",
       "      <td>The economic turnaround started at the end of ...</td>\n",
       "      <td>True</td>\n",
       "    </tr>\n",
       "    <tr>\n",
       "      <th>...</th>\n",
       "      <td>...</td>\n",
       "      <td>...</td>\n",
       "    </tr>\n",
       "    <tr>\n",
       "      <th>10235</th>\n",
       "      <td>There are a larger number of shark attacks in ...</td>\n",
       "      <td>True</td>\n",
       "    </tr>\n",
       "    <tr>\n",
       "      <th>10236</th>\n",
       "      <td>Democrats have now become the party of the [At...</td>\n",
       "      <td>True</td>\n",
       "    </tr>\n",
       "    <tr>\n",
       "      <th>10237</th>\n",
       "      <td>Says an alternative to Social Security that op...</td>\n",
       "      <td>True</td>\n",
       "    </tr>\n",
       "    <tr>\n",
       "      <th>10238</th>\n",
       "      <td>On lifting the U.S. Cuban embargo and allowing...</td>\n",
       "      <td>False</td>\n",
       "    </tr>\n",
       "    <tr>\n",
       "      <th>10239</th>\n",
       "      <td>The Department of Veterans Affairs has a manua...</td>\n",
       "      <td>False</td>\n",
       "    </tr>\n",
       "  </tbody>\n",
       "</table>\n",
       "<p>10240 rows × 2 columns</p>\n",
       "</div>"
      ],
      "text/plain": [
       "                                               Statement  Label\n",
       "0      Says the Annies List political group supports ...  False\n",
       "1      When did the decline of coal start? It started...   True\n",
       "2      Hillary Clinton agrees with John McCain \"by vo...   True\n",
       "3      Health care reform legislation is likely to ma...  False\n",
       "4      The economic turnaround started at the end of ...   True\n",
       "...                                                  ...    ...\n",
       "10235  There are a larger number of shark attacks in ...   True\n",
       "10236  Democrats have now become the party of the [At...   True\n",
       "10237  Says an alternative to Social Security that op...   True\n",
       "10238  On lifting the U.S. Cuban embargo and allowing...  False\n",
       "10239  The Department of Veterans Affairs has a manua...  False\n",
       "\n",
       "[10240 rows x 2 columns]"
      ]
     },
     "execution_count": 95,
     "metadata": {},
     "output_type": "execute_result"
    }
   ],
   "source": [
    "dataset"
   ]
  },
  {
   "cell_type": "markdown",
   "id": "fc681776",
   "metadata": {},
   "source": [
    "### LabelEncodeing"
   ]
  },
  {
   "cell_type": "code",
   "execution_count": 96,
   "id": "ce870ff6",
   "metadata": {},
   "outputs": [],
   "source": [
    "dataset['Label']=lc.fit_transform(dataset['Label'])"
   ]
  },
  {
   "cell_type": "code",
   "execution_count": 97,
   "id": "6427c901",
   "metadata": {},
   "outputs": [
    {
     "data": {
      "text/html": [
       "<div>\n",
       "<style scoped>\n",
       "    .dataframe tbody tr th:only-of-type {\n",
       "        vertical-align: middle;\n",
       "    }\n",
       "\n",
       "    .dataframe tbody tr th {\n",
       "        vertical-align: top;\n",
       "    }\n",
       "\n",
       "    .dataframe thead th {\n",
       "        text-align: right;\n",
       "    }\n",
       "</style>\n",
       "<table border=\"1\" class=\"dataframe\">\n",
       "  <thead>\n",
       "    <tr style=\"text-align: right;\">\n",
       "      <th></th>\n",
       "      <th>Statement</th>\n",
       "      <th>Label</th>\n",
       "    </tr>\n",
       "  </thead>\n",
       "  <tbody>\n",
       "    <tr>\n",
       "      <th>0</th>\n",
       "      <td>Says the Annies List political group supports ...</td>\n",
       "      <td>0</td>\n",
       "    </tr>\n",
       "    <tr>\n",
       "      <th>1</th>\n",
       "      <td>When did the decline of coal start? It started...</td>\n",
       "      <td>1</td>\n",
       "    </tr>\n",
       "    <tr>\n",
       "      <th>2</th>\n",
       "      <td>Hillary Clinton agrees with John McCain \"by vo...</td>\n",
       "      <td>1</td>\n",
       "    </tr>\n",
       "    <tr>\n",
       "      <th>3</th>\n",
       "      <td>Health care reform legislation is likely to ma...</td>\n",
       "      <td>0</td>\n",
       "    </tr>\n",
       "    <tr>\n",
       "      <th>4</th>\n",
       "      <td>The economic turnaround started at the end of ...</td>\n",
       "      <td>1</td>\n",
       "    </tr>\n",
       "    <tr>\n",
       "      <th>...</th>\n",
       "      <td>...</td>\n",
       "      <td>...</td>\n",
       "    </tr>\n",
       "    <tr>\n",
       "      <th>10235</th>\n",
       "      <td>There are a larger number of shark attacks in ...</td>\n",
       "      <td>1</td>\n",
       "    </tr>\n",
       "    <tr>\n",
       "      <th>10236</th>\n",
       "      <td>Democrats have now become the party of the [At...</td>\n",
       "      <td>1</td>\n",
       "    </tr>\n",
       "    <tr>\n",
       "      <th>10237</th>\n",
       "      <td>Says an alternative to Social Security that op...</td>\n",
       "      <td>1</td>\n",
       "    </tr>\n",
       "    <tr>\n",
       "      <th>10238</th>\n",
       "      <td>On lifting the U.S. Cuban embargo and allowing...</td>\n",
       "      <td>0</td>\n",
       "    </tr>\n",
       "    <tr>\n",
       "      <th>10239</th>\n",
       "      <td>The Department of Veterans Affairs has a manua...</td>\n",
       "      <td>0</td>\n",
       "    </tr>\n",
       "  </tbody>\n",
       "</table>\n",
       "<p>10240 rows × 2 columns</p>\n",
       "</div>"
      ],
      "text/plain": [
       "                                               Statement  Label\n",
       "0      Says the Annies List political group supports ...      0\n",
       "1      When did the decline of coal start? It started...      1\n",
       "2      Hillary Clinton agrees with John McCain \"by vo...      1\n",
       "3      Health care reform legislation is likely to ma...      0\n",
       "4      The economic turnaround started at the end of ...      1\n",
       "...                                                  ...    ...\n",
       "10235  There are a larger number of shark attacks in ...      1\n",
       "10236  Democrats have now become the party of the [At...      1\n",
       "10237  Says an alternative to Social Security that op...      1\n",
       "10238  On lifting the U.S. Cuban embargo and allowing...      0\n",
       "10239  The Department of Veterans Affairs has a manua...      0\n",
       "\n",
       "[10240 rows x 2 columns]"
      ]
     },
     "execution_count": 97,
     "metadata": {},
     "output_type": "execute_result"
    }
   ],
   "source": [
    "dataset"
   ]
  },
  {
   "cell_type": "markdown",
   "id": "f71d0887",
   "metadata": {},
   "source": [
    "### Importing Stopwords from nltk"
   ]
  },
  {
   "cell_type": "code",
   "execution_count": 98,
   "id": "1eef019e",
   "metadata": {},
   "outputs": [],
   "source": [
    "from nltk.corpus import stopwords"
   ]
  },
  {
   "cell_type": "code",
   "execution_count": 99,
   "id": "f17a6161",
   "metadata": {},
   "outputs": [],
   "source": [
    "sw=stopwords.words(\"english\")"
   ]
  },
  {
   "cell_type": "markdown",
   "id": "ee99346c",
   "metadata": {},
   "source": [
    "### Checking null values"
   ]
  },
  {
   "cell_type": "code",
   "execution_count": 100,
   "id": "12bdf826",
   "metadata": {
    "scrolled": true
   },
   "outputs": [
    {
     "data": {
      "text/plain": [
       "Statement    0\n",
       "Label        0\n",
       "dtype: int64"
      ]
     },
     "execution_count": 100,
     "metadata": {},
     "output_type": "execute_result"
    }
   ],
   "source": [
    "dataset.isnull().sum()"
   ]
  },
  {
   "cell_type": "code",
   "execution_count": 101,
   "id": "a717ceab",
   "metadata": {},
   "outputs": [
    {
     "name": "stdout",
     "output_type": "stream",
     "text": [
      "<class 'pandas.core.frame.DataFrame'>\n",
      "RangeIndex: 10240 entries, 0 to 10239\n",
      "Data columns (total 2 columns):\n",
      " #   Column     Non-Null Count  Dtype \n",
      "---  ------     --------------  ----- \n",
      " 0   Statement  10240 non-null  object\n",
      " 1   Label      10240 non-null  int64 \n",
      "dtypes: int64(1), object(1)\n",
      "memory usage: 160.1+ KB\n"
     ]
    }
   ],
   "source": [
    "dataset.info()"
   ]
  },
  {
   "cell_type": "markdown",
   "id": "0bb5f57a",
   "metadata": {},
   "source": [
    "### Visualization"
   ]
  },
  {
   "cell_type": "code",
   "execution_count": 102,
   "id": "53de56f0",
   "metadata": {},
   "outputs": [
    {
     "data": {
      "text/plain": [
       "<AxesSubplot:>"
      ]
     },
     "execution_count": 102,
     "metadata": {},
     "output_type": "execute_result"
    },
    {
     "data": {
      "image/png": "[encoded data removed]",
      "text/plain": [
       "<Figure size 2000x2000 with 2 Axes>"
      ]
     },
     "metadata": {},
     "output_type": "display_data"
    }
   ],
   "source": [
    "plt.figure(figsize=(20,20))\n",
    "sns.heatmap(dataset.corr(), annot=True)"
   ]
  },
  {
   "cell_type": "code",
   "execution_count": 103,
   "id": "431bfef3",
   "metadata": {},
   "outputs": [
    {
     "data": {
      "text/plain": [
       "<AxesSubplot:xlabel='Label', ylabel='count'>"
      ]
     },
     "execution_count": 103,
     "metadata": {},
     "output_type": "execute_result"
    },
    {
     "data": {
      "image/png": "[encoded data removed]",
      "text/plain": [
       "<Figure size 640x480 with 1 Axes>"
      ]
     },
     "metadata": {},
     "output_type": "display_data"
    }
   ],
   "source": [
    "sns.countplot(x=dataset['Label'])"
   ]
  },
  {
   "cell_type": "code",
   "execution_count": 104,
   "id": "b333b44d",
   "metadata": {},
   "outputs": [
    {
     "data": {
      "text/plain": [
       "Statement    0\n",
       "Label        0\n",
       "dtype: int64"
      ]
     },
     "execution_count": 104,
     "metadata": {},
     "output_type": "execute_result"
    }
   ],
   "source": [
    "dataset.isnull().sum()"
   ]
  },
  {
   "cell_type": "markdown",
   "id": "16c74d83",
   "metadata": {},
   "source": [
    "### Data preprocessing"
   ]
  },
  {
   "cell_type": "code",
   "execution_count": 105,
   "id": "eef620d4",
   "metadata": {},
   "outputs": [],
   "source": [
    "def cleaning(msg):\n",
    "    msg1=re.sub('[^A-Za-z0-9]',' ',msg)\n",
    "    msg=msg1.lower()\n",
    "    msg1=msg1.split()\n",
    "    msg1=[i for i in msg1 if i not in sw]\n",
    "    msg1=[ps.stem(i) for i in msg1]\n",
    "    msg1=' '.join(msg1)\n",
    "    return msg1"
   ]
  },
  {
   "cell_type": "code",
   "execution_count": 106,
   "id": "c3318666",
   "metadata": {},
   "outputs": [],
   "source": [
    "dataset['Statement']=dataset['Statement'].apply(cleaning)"
   ]
  },
  {
   "cell_type": "code",
   "execution_count": 107,
   "id": "e8139a1d",
   "metadata": {},
   "outputs": [
    {
     "data": {
      "text/plain": [
       "0        say anni list polit group support third trimes...\n",
       "1        when declin coal start it start natur ga took ...\n",
       "2        hillari clinton agre john mccain vote give geo...\n",
       "3        health care reform legisl like mandat free sex...\n",
       "4                     the econom turnaround start end term\n",
       "                               ...                        \n",
       "10235    there larger number shark attack florida case ...\n",
       "10236        democrat becom parti atlanta metro area black\n",
       "10237    say altern social secur oper galveston counti ...\n",
       "10238          on lift u s cuban embargo allow travel cuba\n",
       "10239    the depart veteran affair manual tell veteran ...\n",
       "Name: Statement, Length: 10240, dtype: object"
      ]
     },
     "execution_count": 107,
     "metadata": {},
     "output_type": "execute_result"
    }
   ],
   "source": [
    "dataset['Statement']"
   ]
  },
  {
   "cell_type": "markdown",
   "id": "a2a5aa31",
   "metadata": {},
   "source": [
    "### Tfidf Vectorizer"
   ]
  },
  {
   "cell_type": "code",
   "execution_count": 108,
   "id": "8495ba1b",
   "metadata": {},
   "outputs": [
    {
     "data": {
      "text/plain": [
       "TfidfVectorizer()"
      ]
     },
     "execution_count": 108,
     "metadata": {},
     "output_type": "execute_result"
    }
   ],
   "source": [
    "tfidf.fit(dataset['Statement'])"
   ]
  },
  {
   "cell_type": "code",
   "execution_count": 109,
   "id": "86403f1a",
   "metadata": {},
   "outputs": [
    {
     "name": "stdout",
     "output_type": "stream",
     "text": [
      "  (0, 7677)\t0.43836104606993825\n",
      "  (0, 7503)\t0.2767842857395208\n",
      "  (0, 7271)\t0.21194798355928404\n",
      "  (0, 6542)\t0.11657721567711764\n",
      "  (0, 5783)\t0.2930400485608947\n",
      "  (0, 4553)\t0.3263001128741299\n",
      "  (0, 3501)\t0.293820295505743\n",
      "  (0, 2322)\t0.34732939438485816\n",
      "  (0, 856)\t0.4578169364647548\n",
      "  (0, 584)\t0.25260483410894563\n",
      "  (1, 8137)\t0.1927962127602585\n",
      "  (1, 7579)\t0.19520808112961258\n",
      "  (1, 7079)\t0.6533310633821857\n",
      "  (1, 5887)\t0.14272195956594963\n",
      "  (1, 5108)\t0.26528395790508674\n",
      "  (1, 4116)\t0.1914204381723087\n",
      "  (1, 3342)\t0.21513797279343957\n",
      "  (1, 3278)\t0.21388519663497665\n",
      "  (1, 2274)\t0.2636934630189428\n",
      "  (1, 1842)\t0.26528395790508674\n",
      "  (1, 1494)\t0.18966147873751435\n",
      "  (1, 1181)\t0.2579326996448134\n",
      "  (1, 656)\t0.18987687408360532\n",
      "  (2, 8004)\t0.19195158890134262\n",
      "  (2, 4779)\t0.27304360933647137\n",
      "  :\t:\n",
      "  (10237, 787)\t0.29776382358381875\n",
      "  (10238, 7646)\t0.3846864028899552\n",
      "  (10238, 5339)\t0.254037750870313\n",
      "  (10238, 4527)\t0.40592571760683693\n",
      "  (10238, 2724)\t0.4517850422826616\n",
      "  (10238, 2155)\t0.43415975324007233\n",
      "  (10238, 2154)\t0.39423687923670314\n",
      "  (10238, 774)\t0.2732734374863252\n",
      "  (10239, 8297)\t0.19479985768658797\n",
      "  (10239, 7950)\t0.397399255556729\n",
      "  (10239, 7922)\t0.24143153452358465\n",
      "  (10239, 7461)\t0.10133813919758396\n",
      "  (10239, 7415)\t0.21695526509041194\n",
      "  (10239, 7243)\t0.24776524035890998\n",
      "  (10239, 7199)\t0.28863254053853693\n",
      "  (10239, 6139)\t0.2251535774913305\n",
      "  (10239, 4700)\t0.2980172285496334\n",
      "  (10239, 4530)\t0.16445260980605778\n",
      "  (10239, 4337)\t0.18298123393194266\n",
      "  (10239, 2757)\t0.25279390281447445\n",
      "  (10239, 2342)\t0.18142008754427608\n",
      "  (10239, 1897)\t0.1986996277783645\n",
      "  (10239, 1891)\t0.21271270654974714\n",
      "  (10239, 928)\t0.3112442034061164\n",
      "  (10239, 676)\t0.25563236479962453\n"
     ]
    }
   ],
   "source": [
    "x=tfidf.transform(dataset['Statement'])\n",
    "print(x)"
   ]
  },
  {
   "cell_type": "code",
   "execution_count": 110,
   "id": "f4f85463",
   "metadata": {},
   "outputs": [
    {
     "data": {
      "text/plain": [
       "0        0\n",
       "1        1\n",
       "2        1\n",
       "3        0\n",
       "4        1\n",
       "        ..\n",
       "10235    1\n",
       "10236    1\n",
       "10237    1\n",
       "10238    0\n",
       "10239    0\n",
       "Name: Label, Length: 10240, dtype: int64"
      ]
     },
     "execution_count": 110,
     "metadata": {},
     "output_type": "execute_result"
    }
   ],
   "source": [
    "y=dataset['Label']\n",
    "y"
   ]
  },
  {
   "cell_type": "markdown",
   "id": "99c7e4b7",
   "metadata": {},
   "source": [
    "### Spliting Dataset"
   ]
  },
  {
   "cell_type": "code",
   "execution_count": 111,
   "id": "494bc4a1",
   "metadata": {},
   "outputs": [],
   "source": [
    "from sklearn.linear_model import LogisticRegression\n",
    "from sklearn.metrics import accuracy_score,confusion_matrix,plot_confusion_matrix,classification_report"
   ]
  },
  {
   "cell_type": "code",
   "execution_count": 112,
   "id": "035446cb",
   "metadata": {},
   "outputs": [],
   "source": [
    "from sklearn.model_selection import train_test_split\n",
    "x1_train,x1_test,y1_train,y1_test=train_test_split(x,y,test_size=0.25,random_state=2)"
   ]
  },
  {
   "cell_type": "markdown",
   "id": "518ed555",
   "metadata": {},
   "source": [
    "### LogisticRegression"
   ]
  },
  {
   "cell_type": "code",
   "execution_count": 113,
   "id": "347170f1",
   "metadata": {},
   "outputs": [],
   "source": [
    "from sklearn.linear_model import LogisticRegression"
   ]
  },
  {
   "cell_type": "code",
   "execution_count": 114,
   "id": "a8cc40de",
   "metadata": {},
   "outputs": [],
   "source": [
    "lr=LogisticRegression()"
   ]
  },
  {
   "cell_type": "code",
   "execution_count": 115,
   "id": "1e0d9430",
   "metadata": {},
   "outputs": [
    {
     "data": {
      "text/plain": [
       "LogisticRegression()"
      ]
     },
     "execution_count": 115,
     "metadata": {},
     "output_type": "execute_result"
    }
   ],
   "source": [
    "lr.fit(x1_train,y1_train)"
   ]
  },
  {
   "cell_type": "code",
   "execution_count": 116,
   "id": "f93f6e64",
   "metadata": {},
   "outputs": [],
   "source": [
    "y1_pred=lr.predict(x1_test)"
   ]
  },
  {
   "cell_type": "markdown",
   "id": "b02745e7",
   "metadata": {},
   "source": [
    "print(\"accuracy of logisticRegression:\",accuracy_score(y1_test,y1_pred))"
   ]
  },
  {
   "cell_type": "markdown",
   "id": "37c9ddfe",
   "metadata": {},
   "source": [
    "### Navie_bayes"
   ]
  },
  {
   "cell_type": "code",
   "execution_count": 117,
   "id": "deb9b26a",
   "metadata": {},
   "outputs": [],
   "source": [
    "from sklearn.naive_bayes import MultinomialNB"
   ]
  },
  {
   "cell_type": "code",
   "execution_count": 118,
   "id": "2a5dc6c2",
   "metadata": {},
   "outputs": [
    {
     "data": {
      "text/plain": [
       "MultinomialNB()"
      ]
     },
     "execution_count": 118,
     "metadata": {},
     "output_type": "execute_result"
    }
   ],
   "source": [
    "naiveclassifer=MultinomialNB()\n",
    "naiveclassifer.fit(x1_train,y1_train)"
   ]
  },
  {
   "cell_type": "code",
   "execution_count": 119,
   "id": "05f5fb18",
   "metadata": {},
   "outputs": [
    {
     "name": "stdout",
     "output_type": "stream",
     "text": [
      "[1 1 0 ... 1 0 1]\n"
     ]
    }
   ],
   "source": [
    "y2_pred=naiveclassifer.predict(x1_test)\n",
    "print(y2_pred)"
   ]
  },
  {
   "cell_type": "code",
   "execution_count": 120,
   "id": "9ba3763a",
   "metadata": {},
   "outputs": [
    {
     "name": "stdout",
     "output_type": "stream",
     "text": [
      "accurary score of MultinomialNB: 0.604296875\n"
     ]
    }
   ],
   "source": [
    "print(\"accurary score of MultinomialNB:\",accuracy_score(y1_test,y2_pred))"
   ]
  },
  {
   "cell_type": "markdown",
   "id": "885f83a1",
   "metadata": {},
   "source": [
    "### AdaBoostClassifier"
   ]
  },
  {
   "cell_type": "code",
   "execution_count": 121,
   "id": "e8864806",
   "metadata": {},
   "outputs": [],
   "source": [
    "from sklearn.ensemble import AdaBoostClassifier"
   ]
  },
  {
   "cell_type": "code",
   "execution_count": 122,
   "id": "e9989e24",
   "metadata": {},
   "outputs": [],
   "source": [
    "abc=AdaBoostClassifier()"
   ]
  },
  {
   "cell_type": "code",
   "execution_count": 133,
   "id": "a1cd0fbe",
   "metadata": {},
   "outputs": [],
   "source": [
    "model=abc.fit(x1_train,y1_train)"
   ]
  },
  {
   "cell_type": "code",
   "execution_count": 124,
   "id": "9669e1c4",
   "metadata": {},
   "outputs": [],
   "source": [
    "y3_pred=abc.predict(x1_test)"
   ]
  },
  {
   "cell_type": "code",
   "execution_count": 128,
   "id": "fd1a88de",
   "metadata": {},
   "outputs": [
    {
     "name": "stdout",
     "output_type": "stream",
     "text": [
      "accuracy score of adaboostclassifier 0.599609375\n"
     ]
    }
   ],
   "source": [
    "print('accuracy score of adaboostclassifier:',accuracy_score(y1_test,y3_pred))"
   ]
  },
  {
   "cell_type": "code",
   "execution_count": 130,
   "id": "29e5ecb2",
   "metadata": {},
   "outputs": [
    {
     "data": {
      "text/plain": [
       "array([[ 311,  800],\n",
       "       [ 225, 1224]], dtype=int64)"
      ]
     },
     "execution_count": 130,
     "metadata": {},
     "output_type": "execute_result"
    }
   ],
   "source": [
    "confusion_matrix(y1_test,y3_pred)"
   ]
  },
  {
   "cell_type": "code",
   "execution_count": 131,
   "id": "536e60ee",
   "metadata": {},
   "outputs": [
    {
     "data": {
      "text/plain": [
       "'              precision    recall  f1-score   support\\n\\n           0       0.58      0.28      0.38      1111\\n           1       0.60      0.84      0.70      1449\\n\\n    accuracy                           0.60      2560\\n   macro avg       0.59      0.56      0.54      2560\\nweighted avg       0.59      0.60      0.56      2560\\n'"
      ]
     },
     "execution_count": 131,
     "metadata": {},
     "output_type": "execute_result"
    }
   ],
   "source": [
    "classification_report(y1_test,y3_pred)"
   ]
  },
  {
   "cell_type": "code",
   "execution_count": 135,
   "id": "9e2e4f92",
   "metadata": {},
   "outputs": [
    {
     "data": {
      "text/plain": [
       "<sklearn.metrics._plot.confusion_matrix.ConfusionMatrixDisplay at 0x20e6f696610>"
      ]
     },
     "execution_count": 135,
     "metadata": {},
     "output_type": "execute_result"
    },
    {
     "data": {
      "image/png": "[encoded data removed]",
      "text/plain": [
       "<Figure size 640x480 with 2 Axes>"
      ]
     },
     "metadata": {},
     "output_type": "display_data"
    }
   ],
   "source": [
    "plot_confusion_matrix(model,x1_train,y1_train)"
   ]
  },
  {
   "cell_type": "code",
   "execution_count": null,
   "id": "c4488469",
   "metadata": {},
   "outputs": [],
   "source": []
  }
 ],
 "metadata": {
  "kernelspec": {
   "display_name": "Python 3 (ipykernel)",
   "language": "python",
   "name": "python3"
  },
  "language_info": {
   "codemirror_mode": {
    "name": "ipython",
    "version": 3
   },
   "file_extension": ".py",
   "mimetype": "text/x-python",
   "name": "python",
   "nbconvert_exporter": "python",
   "pygments_lexer": "ipython3",
   "version": "3.9.13"
  }
 },
 "nbformat": 4,
 "nbformat_minor": 5
}
